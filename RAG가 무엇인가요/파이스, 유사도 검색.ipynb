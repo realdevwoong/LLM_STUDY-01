{
  "cells": [
    {
      "cell_type": "code",
      "execution_count": null,
      "id": "ad71ee7c-6927-48f9-bc3d-976f422ef1b2",
      "metadata": {
        "id": "ad71ee7c-6927-48f9-bc3d-976f422ef1b2"
      },
      "outputs": [],
      "source": [
        "#파이스"
      ]
    },
    {
      "cell_type": "code",
      "source": [
        "!pip install python-dotenv\n",
        "!pip install -U langchain-community\n",
        "!pip install tiktoken"
      ],
      "metadata": {
        "id": "BzvNuJhjdbD4",
        "outputId": "191b168b-93d2-4aff-c014-7ed049373dda",
        "colab": {
          "base_uri": "https://localhost:8080/"
        }
      },
      "id": "BzvNuJhjdbD4",
      "execution_count": 8,
      "outputs": [
        {
          "output_type": "stream",
          "name": "stdout",
          "text": [
            "Collecting python-dotenv\n",
            "  Downloading python_dotenv-1.0.1-py3-none-any.whl.metadata (23 kB)\n",
            "Downloading python_dotenv-1.0.1-py3-none-any.whl (19 kB)\n",
            "Installing collected packages: python-dotenv\n",
            "Successfully installed python-dotenv-1.0.1\n",
            "Collecting langchain-community\n",
            "  Downloading langchain_community-0.3.16-py3-none-any.whl.metadata (2.9 kB)\n",
            "Requirement already satisfied: PyYAML>=5.3 in /usr/local/lib/python3.11/dist-packages (from langchain-community) (6.0.2)\n",
            "Requirement already satisfied: SQLAlchemy<3,>=1.4 in /usr/local/lib/python3.11/dist-packages (from langchain-community) (2.0.37)\n",
            "Requirement already satisfied: aiohttp<4.0.0,>=3.8.3 in /usr/local/lib/python3.11/dist-packages (from langchain-community) (3.11.11)\n",
            "Collecting dataclasses-json<0.7,>=0.5.7 (from langchain-community)\n",
            "  Downloading dataclasses_json-0.6.7-py3-none-any.whl.metadata (25 kB)\n",
            "Collecting httpx-sse<0.5.0,>=0.4.0 (from langchain-community)\n",
            "  Downloading httpx_sse-0.4.0-py3-none-any.whl.metadata (9.0 kB)\n",
            "Requirement already satisfied: langchain<0.4.0,>=0.3.16 in /usr/local/lib/python3.11/dist-packages (from langchain-community) (0.3.16)\n",
            "Requirement already satisfied: langchain-core<0.4.0,>=0.3.32 in /usr/local/lib/python3.11/dist-packages (from langchain-community) (0.3.32)\n",
            "Requirement already satisfied: langsmith<0.4,>=0.1.125 in /usr/local/lib/python3.11/dist-packages (from langchain-community) (0.3.2)\n",
            "Requirement already satisfied: numpy<2,>=1.22.4 in /usr/local/lib/python3.11/dist-packages (from langchain-community) (1.26.4)\n",
            "Collecting pydantic-settings<3.0.0,>=2.4.0 (from langchain-community)\n",
            "  Downloading pydantic_settings-2.7.1-py3-none-any.whl.metadata (3.5 kB)\n",
            "Requirement already satisfied: requests<3,>=2 in /usr/local/lib/python3.11/dist-packages (from langchain-community) (2.32.3)\n",
            "Requirement already satisfied: tenacity!=8.4.0,<10,>=8.1.0 in /usr/local/lib/python3.11/dist-packages (from langchain-community) (9.0.0)\n",
            "Requirement already satisfied: aiohappyeyeballs>=2.3.0 in /usr/local/lib/python3.11/dist-packages (from aiohttp<4.0.0,>=3.8.3->langchain-community) (2.4.4)\n",
            "Requirement already satisfied: aiosignal>=1.1.2 in /usr/local/lib/python3.11/dist-packages (from aiohttp<4.0.0,>=3.8.3->langchain-community) (1.3.2)\n",
            "Requirement already satisfied: attrs>=17.3.0 in /usr/local/lib/python3.11/dist-packages (from aiohttp<4.0.0,>=3.8.3->langchain-community) (25.1.0)\n",
            "Requirement already satisfied: frozenlist>=1.1.1 in /usr/local/lib/python3.11/dist-packages (from aiohttp<4.0.0,>=3.8.3->langchain-community) (1.5.0)\n",
            "Requirement already satisfied: multidict<7.0,>=4.5 in /usr/local/lib/python3.11/dist-packages (from aiohttp<4.0.0,>=3.8.3->langchain-community) (6.1.0)\n",
            "Requirement already satisfied: propcache>=0.2.0 in /usr/local/lib/python3.11/dist-packages (from aiohttp<4.0.0,>=3.8.3->langchain-community) (0.2.1)\n",
            "Requirement already satisfied: yarl<2.0,>=1.17.0 in /usr/local/lib/python3.11/dist-packages (from aiohttp<4.0.0,>=3.8.3->langchain-community) (1.18.3)\n",
            "Collecting marshmallow<4.0.0,>=3.18.0 (from dataclasses-json<0.7,>=0.5.7->langchain-community)\n",
            "  Downloading marshmallow-3.26.0-py3-none-any.whl.metadata (7.3 kB)\n",
            "Collecting typing-inspect<1,>=0.4.0 (from dataclasses-json<0.7,>=0.5.7->langchain-community)\n",
            "  Downloading typing_inspect-0.9.0-py3-none-any.whl.metadata (1.5 kB)\n",
            "Requirement already satisfied: langchain-text-splitters<0.4.0,>=0.3.3 in /usr/local/lib/python3.11/dist-packages (from langchain<0.4.0,>=0.3.16->langchain-community) (0.3.5)\n",
            "Requirement already satisfied: pydantic<3.0.0,>=2.7.4 in /usr/local/lib/python3.11/dist-packages (from langchain<0.4.0,>=0.3.16->langchain-community) (2.10.6)\n",
            "Requirement already satisfied: jsonpatch<2.0,>=1.33 in /usr/local/lib/python3.11/dist-packages (from langchain-core<0.4.0,>=0.3.32->langchain-community) (1.33)\n",
            "Requirement already satisfied: packaging<25,>=23.2 in /usr/local/lib/python3.11/dist-packages (from langchain-core<0.4.0,>=0.3.32->langchain-community) (24.2)\n",
            "Requirement already satisfied: typing-extensions>=4.7 in /usr/local/lib/python3.11/dist-packages (from langchain-core<0.4.0,>=0.3.32->langchain-community) (4.12.2)\n",
            "Requirement already satisfied: httpx<1,>=0.23.0 in /usr/local/lib/python3.11/dist-packages (from langsmith<0.4,>=0.1.125->langchain-community) (0.28.1)\n",
            "Requirement already satisfied: orjson<4.0.0,>=3.9.14 in /usr/local/lib/python3.11/dist-packages (from langsmith<0.4,>=0.1.125->langchain-community) (3.10.15)\n",
            "Requirement already satisfied: requests-toolbelt<2.0.0,>=1.0.0 in /usr/local/lib/python3.11/dist-packages (from langsmith<0.4,>=0.1.125->langchain-community) (1.0.0)\n",
            "Requirement already satisfied: zstandard<0.24.0,>=0.23.0 in /usr/local/lib/python3.11/dist-packages (from langsmith<0.4,>=0.1.125->langchain-community) (0.23.0)\n",
            "Requirement already satisfied: python-dotenv>=0.21.0 in /usr/local/lib/python3.11/dist-packages (from pydantic-settings<3.0.0,>=2.4.0->langchain-community) (1.0.1)\n",
            "Requirement already satisfied: charset-normalizer<4,>=2 in /usr/local/lib/python3.11/dist-packages (from requests<3,>=2->langchain-community) (3.4.1)\n",
            "Requirement already satisfied: idna<4,>=2.5 in /usr/local/lib/python3.11/dist-packages (from requests<3,>=2->langchain-community) (3.10)\n",
            "Requirement already satisfied: urllib3<3,>=1.21.1 in /usr/local/lib/python3.11/dist-packages (from requests<3,>=2->langchain-community) (2.3.0)\n",
            "Requirement already satisfied: certifi>=2017.4.17 in /usr/local/lib/python3.11/dist-packages (from requests<3,>=2->langchain-community) (2024.12.14)\n",
            "Requirement already satisfied: greenlet!=0.4.17 in /usr/local/lib/python3.11/dist-packages (from SQLAlchemy<3,>=1.4->langchain-community) (3.1.1)\n",
            "Requirement already satisfied: anyio in /usr/local/lib/python3.11/dist-packages (from httpx<1,>=0.23.0->langsmith<0.4,>=0.1.125->langchain-community) (3.7.1)\n",
            "Requirement already satisfied: httpcore==1.* in /usr/local/lib/python3.11/dist-packages (from httpx<1,>=0.23.0->langsmith<0.4,>=0.1.125->langchain-community) (1.0.7)\n",
            "Requirement already satisfied: h11<0.15,>=0.13 in /usr/local/lib/python3.11/dist-packages (from httpcore==1.*->httpx<1,>=0.23.0->langsmith<0.4,>=0.1.125->langchain-community) (0.14.0)\n",
            "Requirement already satisfied: jsonpointer>=1.9 in /usr/local/lib/python3.11/dist-packages (from jsonpatch<2.0,>=1.33->langchain-core<0.4.0,>=0.3.32->langchain-community) (3.0.0)\n",
            "Requirement already satisfied: annotated-types>=0.6.0 in /usr/local/lib/python3.11/dist-packages (from pydantic<3.0.0,>=2.7.4->langchain<0.4.0,>=0.3.16->langchain-community) (0.7.0)\n",
            "Requirement already satisfied: pydantic-core==2.27.2 in /usr/local/lib/python3.11/dist-packages (from pydantic<3.0.0,>=2.7.4->langchain<0.4.0,>=0.3.16->langchain-community) (2.27.2)\n",
            "Collecting mypy-extensions>=0.3.0 (from typing-inspect<1,>=0.4.0->dataclasses-json<0.7,>=0.5.7->langchain-community)\n",
            "  Downloading mypy_extensions-1.0.0-py3-none-any.whl.metadata (1.1 kB)\n",
            "Requirement already satisfied: sniffio>=1.1 in /usr/local/lib/python3.11/dist-packages (from anyio->httpx<1,>=0.23.0->langsmith<0.4,>=0.1.125->langchain-community) (1.3.1)\n",
            "Downloading langchain_community-0.3.16-py3-none-any.whl (2.5 MB)\n",
            "\u001b[2K   \u001b[90m━━━━━━━━━━━━━━━━━━━━━━━━━━━━━━━━━━━━━━━━\u001b[0m \u001b[32m2.5/2.5 MB\u001b[0m \u001b[31m68.6 MB/s\u001b[0m eta \u001b[36m0:00:00\u001b[0m\n",
            "\u001b[?25hDownloading dataclasses_json-0.6.7-py3-none-any.whl (28 kB)\n",
            "Downloading httpx_sse-0.4.0-py3-none-any.whl (7.8 kB)\n",
            "Downloading pydantic_settings-2.7.1-py3-none-any.whl (29 kB)\n",
            "Downloading marshmallow-3.26.0-py3-none-any.whl (50 kB)\n",
            "\u001b[2K   \u001b[90m━━━━━━━━━━━━━━━━━━━━━━━━━━━━━━━━━━━━━━━━\u001b[0m \u001b[32m50.8/50.8 kB\u001b[0m \u001b[31m5.0 MB/s\u001b[0m eta \u001b[36m0:00:00\u001b[0m\n",
            "\u001b[?25hDownloading typing_inspect-0.9.0-py3-none-any.whl (8.8 kB)\n",
            "Downloading mypy_extensions-1.0.0-py3-none-any.whl (4.7 kB)\n",
            "Installing collected packages: mypy-extensions, marshmallow, httpx-sse, typing-inspect, pydantic-settings, dataclasses-json, langchain-community\n",
            "Successfully installed dataclasses-json-0.6.7 httpx-sse-0.4.0 langchain-community-0.3.16 marshmallow-3.26.0 mypy-extensions-1.0.0 pydantic-settings-2.7.1 typing-inspect-0.9.0\n",
            "Collecting tiktoken\n",
            "  Downloading tiktoken-0.8.0-cp311-cp311-manylinux_2_17_x86_64.manylinux2014_x86_64.whl.metadata (6.6 kB)\n",
            "Requirement already satisfied: regex>=2022.1.18 in /usr/local/lib/python3.11/dist-packages (from tiktoken) (2024.11.6)\n",
            "Requirement already satisfied: requests>=2.26.0 in /usr/local/lib/python3.11/dist-packages (from tiktoken) (2.32.3)\n",
            "Requirement already satisfied: charset-normalizer<4,>=2 in /usr/local/lib/python3.11/dist-packages (from requests>=2.26.0->tiktoken) (3.4.1)\n",
            "Requirement already satisfied: idna<4,>=2.5 in /usr/local/lib/python3.11/dist-packages (from requests>=2.26.0->tiktoken) (3.10)\n",
            "Requirement already satisfied: urllib3<3,>=1.21.1 in /usr/local/lib/python3.11/dist-packages (from requests>=2.26.0->tiktoken) (2.3.0)\n",
            "Requirement already satisfied: certifi>=2017.4.17 in /usr/local/lib/python3.11/dist-packages (from requests>=2.26.0->tiktoken) (2024.12.14)\n",
            "Downloading tiktoken-0.8.0-cp311-cp311-manylinux_2_17_x86_64.manylinux2014_x86_64.whl (1.2 MB)\n",
            "\u001b[2K   \u001b[90m━━━━━━━━━━━━━━━━━━━━━━━━━━━━━━━━━━━━━━━━\u001b[0m \u001b[32m1.2/1.2 MB\u001b[0m \u001b[31m54.7 MB/s\u001b[0m eta \u001b[36m0:00:00\u001b[0m\n",
            "\u001b[?25hInstalling collected packages: tiktoken\n",
            "Successfully installed tiktoken-0.8.0\n"
          ]
        }
      ]
    },
    {
      "cell_type": "code",
      "source": [
        "# 기존 설치 제거 + 캐시 클린\n",
        "!pip uninstall -y faiss-gpu faiss-cpu > /dev/null 2>&1\n",
        "!rm -rf /root/.cache/pip"
      ],
      "metadata": {
        "id": "qpvVSX1hj6c8"
      },
      "id": "qpvVSX1hj6c8",
      "execution_count": 3,
      "outputs": []
    },
    {
      "cell_type": "code",
      "source": [
        "# NVIDIA 공식 채널을 통한 CUDA 12.4 설치\n",
        "!pip install faiss-gpu-cu12 --extra-index-url=https://pypi.nvidia.com --no-cache-dir"
      ],
      "metadata": {
        "id": "rSWbgzalhJs4",
        "outputId": "f5dee7a5-941c-45cf-faf4-b3165101e488",
        "colab": {
          "base_uri": "https://localhost:8080/"
        }
      },
      "id": "rSWbgzalhJs4",
      "execution_count": 4,
      "outputs": [
        {
          "output_type": "stream",
          "name": "stdout",
          "text": [
            "Looking in indexes: https://pypi.org/simple, https://pypi.nvidia.com\n",
            "Collecting faiss-gpu-cu12\n",
            "  Downloading faiss_gpu_cu12-1.10.0-cp311-cp311-manylinux_2_17_x86_64.manylinux2014_x86_64.whl.metadata (11 kB)\n",
            "Requirement already satisfied: numpy<2 in /usr/local/lib/python3.11/dist-packages (from faiss-gpu-cu12) (1.26.4)\n",
            "Requirement already satisfied: packaging in /usr/local/lib/python3.11/dist-packages (from faiss-gpu-cu12) (24.2)\n",
            "Requirement already satisfied: nvidia-cuda-runtime-cu12>=12.1.105 in /usr/local/lib/python3.11/dist-packages (from faiss-gpu-cu12) (12.5.82)\n",
            "Requirement already satisfied: nvidia-cublas-cu12>=12.1.3.1 in /usr/local/lib/python3.11/dist-packages (from faiss-gpu-cu12) (12.5.3.2)\n",
            "Downloading faiss_gpu_cu12-1.10.0-cp311-cp311-manylinux_2_17_x86_64.manylinux2014_x86_64.whl (47.9 MB)\n",
            "\u001b[2K   \u001b[90m━━━━━━━━━━━━━━━━━━━━━━━━━━━━━━━━━━━━━━━━\u001b[0m \u001b[32m47.9/47.9 MB\u001b[0m \u001b[31m67.2 MB/s\u001b[0m eta \u001b[36m0:00:00\u001b[0m\n",
            "\u001b[?25hInstalling collected packages: faiss-gpu-cu12\n",
            "Successfully installed faiss-gpu-cu12-1.10.0\n"
          ]
        }
      ]
    },
    {
      "cell_type": "code",
      "source": [
        "import torch\n",
        "print(f\"CUDA Version: {torch.version.cuda}\")\n",
        "print(f\"GPU 사용 가능 여부: {torch.cuda.is_available()}\")"
      ],
      "metadata": {
        "id": "RAA1ql5sjmN6",
        "outputId": "1c6f68d5-bdbd-48bd-903e-05c5ea8d22b4",
        "colab": {
          "base_uri": "https://localhost:8080/"
        }
      },
      "id": "RAA1ql5sjmN6",
      "execution_count": 5,
      "outputs": [
        {
          "output_type": "stream",
          "name": "stdout",
          "text": [
            "CUDA Version: 12.4\n",
            "GPU 사용 가능 여부: True\n"
          ]
        }
      ]
    },
    {
      "cell_type": "code",
      "source": [
        "import faiss\n",
        "import torch\n",
        "\n",
        "print(f\"[CUDA 버전] {torch.version.cuda}\")  # 12.4 출력 확인\n",
        "print(f\"[FAISS GPU 개수] {faiss.get_num_gpus()}\")  # 1 이상 출력 확인\n",
        "print(f\"[컴파일 옵션] {faiss.GpuMultipleClonerOptions()}\")  # shard=True 확인"
      ],
      "metadata": {
        "id": "SAruS4xgi2Iz",
        "outputId": "39208656-c967-4435-9d47-e3630767a1e3",
        "colab": {
          "base_uri": "https://localhost:8080/"
        }
      },
      "id": "SAruS4xgi2Iz",
      "execution_count": 6,
      "outputs": [
        {
          "output_type": "stream",
          "name": "stdout",
          "text": [
            "[CUDA 버전] 12.4\n",
            "[FAISS GPU 개수] 1\n",
            "[컴파일 옵션] <faiss.swigfaiss.GpuMultipleClonerOptions; proxy of <Swig Object of type 'faiss::gpu::GpuMultipleClonerOptions *' at 0x78c2d817fae0> >\n"
          ]
        }
      ]
    },
    {
      "cell_type": "markdown",
      "source": [],
      "metadata": {
        "id": "SiN0sP2AhNgQ"
      },
      "id": "SiN0sP2AhNgQ"
    },
    {
      "cell_type": "code",
      "execution_count": 9,
      "id": "dcb55ef4-021e-43a0-bd70-71b7f1bdbd56",
      "metadata": {
        "id": "dcb55ef4-021e-43a0-bd70-71b7f1bdbd56"
      },
      "outputs": [],
      "source": [
        "from langchain.text_splitter import CharacterTextSplitter\n",
        "from dotenv import load_dotenv\n",
        "from langchain.embeddings.openai import OpenAIEmbeddings\n",
        "from langchain.vectorstores import FAISS\n",
        "from langchain.chains.question_answering import load_qa_chain\n",
        "from langchain.llms import OpenAI\n",
        "from langchain.callbacks import get_openai_callback\n",
        "from IPython.display import JSON"
      ]
    },
    {
      "cell_type": "code",
      "execution_count": 16,
      "id": "090a0a2b-d4a8-4776-b64c-5b1be24bbd97",
      "metadata": {
        "id": "090a0a2b-d4a8-4776-b64c-5b1be24bbd97",
        "outputId": "9bdc539a-6e27-4002-ab3f-3f48e1cd450e",
        "colab": {
          "base_uri": "https://localhost:8080/"
        }
      },
      "outputs": [
        {
          "output_type": "stream",
          "name": "stdout",
          "text": [
            "['2025년 중국의 생성형 AI 스타트업 DeepSeek이 혁신적 기술력으로 글로벌 AI 시장을 뒤흔들고 있습니다.\\n 671B 매개변수의 V3 모델을 OpenAI 대비 1/10 비용인 단 558만 달러로 개발하며, 2,000개의 NVIDIA H800 칩만을 활용해 초고효율 모델을 선보였습니다. \\n R1 추론 모델과 V3 기반 챗봇의 소스코드를 공개하는 오픈소스 전략으로 개발 생태계를 확장하고 있으며, AIME, SWE-bench 등 7개 벤치마크에서 GPT-4와 Claude 3.5와 동등한 성능을 입증했습니다.', '이러한 성과로 공개 3주 만에 미국 iOS 앱스토어 1위를 달성하며 NVIDIA 주가 18% 급락을 유발하는 등 시장에 큰 영향을 미쳤습니다. \\n DeepSeek의 기술 혁신은 MoE(Mixture of Experts) 구조에 멀티헤드 잠재 어텐션을 적용해 토큰당 37B 매개변수만 활성화하는 데 성공했습니다. \\n 다만, 미국 기업들로부터 기술 유출 의혹이 제기되어 알고리즘 효율성에 대한 검증 과정이 진행 중입니다.']\n"
          ]
        }
      ],
      "source": [
        "text = \"\"\"2025년 중국의 생성형 AI 스타트업 DeepSeek이 혁신적 기술력으로 글로벌 AI 시장을 뒤흔들고 있습니다.\n",
        " 671B 매개변수의 V3 모델을 OpenAI 대비 1/10 비용인 단 558만 달러로 개발하며, 2,000개의 NVIDIA H800 칩만을 활용해 초고효율 모델을 선보였습니다.\n",
        " R1 추론 모델과 V3 기반 챗봇의 소스코드를 공개하는 오픈소스 전략으로 개발 생태계를 확장하고 있으며, AIME, SWE-bench 등 7개 벤치마크에서 GPT-4와 Claude 3.5와 동등한 성능을 입증했습니다.\n",
        " 이러한 성과로 공개 3주 만에 미국 iOS 앱스토어 1위를 달성하며 NVIDIA 주가 18% 급락을 유발하는 등 시장에 큰 영향을 미쳤습니다.\n",
        " DeepSeek의 기술 혁신은 MoE(Mixture of Experts) 구조에 멀티헤드 잠재 어텐션을 적용해 토큰당 37B 매개변수만 활성화하는 데 성공했습니다.\n",
        " 다만, 미국 기업들로부터 기술 유출 의혹이 제기되어 알고리즘 효율성에 대한 검증 과정이 진행 중입니다.\n",
        "\"\"\"\n",
        "#CharacterTextSplitter을 이용한 청킹\n",
        "splitter = CharacterTextSplitter(\n",
        "separator=\"\\n\",\n",
        "chunk_size=300,\n",
        "chunk_overlap=50,\n",
        "length_function=len\n",
        ")\n",
        "\n",
        "#주어진 문장 청킹\n",
        "chunks = splitter.split_text(text)\n",
        "print(chunks)"
      ]
    },
    {
      "cell_type": "code",
      "execution_count": 17,
      "id": "a54163f4-d873-439d-a58d-940d26f3b026",
      "metadata": {
        "id": "a54163f4-d873-439d-a58d-940d26f3b026"
      },
      "outputs": [],
      "source": [
        "load_dotenv()\n",
        "api_key=\"sk-\"\n",
        "#임베딩 모델\n",
        "embeddings = OpenAIEmbeddings(model=\"text-embedding-ada-002\", api_key=api_key)\n",
        "\n",
        "#텍스트 임베딩을 FAISS FAISS(Vector Store)에 저장\n",
        "knowledge_base = FAISS.from_texts(chunks, embeddings)"
      ]
    },
    {
      "cell_type": "code",
      "execution_count": 18,
      "id": "a79db0b2-1ff6-4950-bfbd-bce74653e74e",
      "metadata": {
        "id": "a79db0b2-1ff6-4950-bfbd-bce74653e74e",
        "outputId": "50a10b4b-5aed-4f0c-af4e-f6488a6b4815",
        "colab": {
          "base_uri": "https://localhost:8080/"
        }
      },
      "outputs": [
        {
          "output_type": "stream",
          "name": "stdout",
          "text": [
            "<langchain_community.vectorstores.faiss.FAISS object at 0x78c2bf7b4e10>\n"
          ]
        }
      ],
      "source": [
        "print(knowledge_base)"
      ]
    },
    {
      "cell_type": "code",
      "execution_count": 19,
      "id": "78e4d3f5-dcd3-4d84-9c8d-96eaf344a8ec",
      "metadata": {
        "id": "78e4d3f5-dcd3-4d84-9c8d-96eaf344a8ec"
      },
      "outputs": [],
      "source": [
        "question = \"deepseek이란?\"\n",
        "references = knowledge_base.similarity_search(question)"
      ]
    },
    {
      "cell_type": "code",
      "execution_count": 20,
      "id": "9206f100-78b6-4461-8add-bdd06fdcf7f2",
      "metadata": {
        "id": "9206f100-78b6-4461-8add-bdd06fdcf7f2",
        "outputId": "329379d0-8937-4c0e-c67d-594012769d9b",
        "colab": {
          "base_uri": "https://localhost:8080/"
        }
      },
      "outputs": [
        {
          "output_type": "stream",
          "name": "stdout",
          "text": [
            "Tokens Used: 728\n",
            "\tPrompt Tokens: 503\n",
            "\t\tPrompt Tokens Cached: 0\n",
            "\tCompletion Tokens: 225\n",
            "\t\tReasoning Tokens: 0\n",
            "Successful Requests: 1\n",
            "Total Cost (USD): $0.0012045\n"
          ]
        }
      ],
      "source": [
        "from langchain.chat_models import ChatOpenAI\n",
        "\n",
        "llm = ChatOpenAI(model=\"gpt-3.5-turbo\", api_key=api_key)\n",
        "\n",
        "\n",
        "chain = load_qa_chain(llm, chain_type=\"stuff\") #Q&A Interface, 하지만 모든 document를 가져온다\n",
        "with get_openai_callback() as cb:\n",
        "    response = chain.run(input_documents=references, question=question)\n",
        "    print(cb)"
      ]
    },
    {
      "cell_type": "code",
      "execution_count": 21,
      "id": "8b304070-c5b6-4557-b87c-368e38ecec2a",
      "metadata": {
        "id": "8b304070-c5b6-4557-b87c-368e38ecec2a",
        "outputId": "aaad8138-4d3e-4742-d5c5-79506bfc2fa9",
        "colab": {
          "base_uri": "https://localhost:8080/"
        }
      },
      "outputs": [
        {
          "output_type": "stream",
          "name": "stdout",
          "text": [
            "DeepSeek은 중국의 생성형 AI 스타트업 기업으로, 혁신적인 기술력을 바탕으로 글로벌 AI 시장에서 주목을 받고 있습니다. DeepSeek은 MoE(Mixture of Experts) 구조와 멀티헤드 잠재 어텐션을 활용하여 효율적인 모델을 개발하고, 매개변수 활성화에 있어서도 성과를 거두었습니다. 이 회사는 챗봇 및 추론 모델 등의 소스코드를 오픈소스로 공개하여 개발 생태계를 확장하고 있으며, GPT-4와 Claude 3.5와 동등한 성능을 보여주는 등 고성능을 자랑합니다.\n"
          ]
        }
      ],
      "source": [
        "print(response)"
      ]
    },
    {
      "cell_type": "code",
      "execution_count": null,
      "id": "1e49d121-2357-41c0-a0fa-d1852e331975",
      "metadata": {
        "id": "1e49d121-2357-41c0-a0fa-d1852e331975"
      },
      "outputs": [],
      "source": []
    }
  ],
  "metadata": {
    "kernelspec": {
      "display_name": "openai_f",
      "language": "python",
      "name": "openai"
    },
    "language_info": {
      "codemirror_mode": {
        "name": "ipython",
        "version": 3
      },
      "file_extension": ".py",
      "mimetype": "text/x-python",
      "name": "python",
      "nbconvert_exporter": "python",
      "pygments_lexer": "ipython3",
      "version": "3.8.19"
    },
    "colab": {
      "provenance": [],
      "gpuType": "T4"
    },
    "accelerator": "GPU"
  },
  "nbformat": 4,
  "nbformat_minor": 5
}